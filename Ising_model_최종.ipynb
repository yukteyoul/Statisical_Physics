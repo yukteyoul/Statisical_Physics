{
  "nbformat": 4,
  "nbformat_minor": 0,
  "metadata": {
    "colab": {
      "name": "Ising model_최종.ipynb",
      "provenance": [],
      "authorship_tag": "ABX9TyMgmsRZ22h8C0XBIm3xHsvq",
      "include_colab_link": true
    },
    "kernelspec": {
      "display_name": "Python 3",
      "name": "python3"
    },
    "language_info": {
      "name": "python"
    }
  },
  "cells": [
    {
      "cell_type": "markdown",
      "metadata": {
        "id": "view-in-github",
        "colab_type": "text"
      },
      "source": [
        "<a href=\"https://colab.research.google.com/github/yukteyoul/Statisical_Physics/blob/main/Ising_model_%EC%B5%9C%EC%A2%85.ipynb\" target=\"_parent\"><img src=\"https://colab.research.google.com/assets/colab-badge.svg\" alt=\"Open In Colab\"/></a>"
      ]
    },
    {
      "cell_type": "code",
      "metadata": {
        "colab": {
          "base_uri": "https://localhost:8080/",
          "height": 35
        },
        "id": "YpoFccj7aNAt",
        "outputId": "7cb3120b-9e76-4a35-8f72-3966ecf1f1b3"
      },
      "source": [
        "'''\n",
        "상전이\n",
        "\n",
        "# Ising model\n",
        "\n",
        "i, j 축의 2차원 상자 안에 point 존재. up/down 으로 spin 존재\n",
        "아래 식으로 모두 더해 E 구하기\n",
        "\n",
        "S_ij = 1 or -1\n",
        "\n",
        "E = -Sigma(S_ij * S_i'j')\n",
        "\n",
        "<E> 계산 >> 온도 T에 대한 함수\n",
        "'''\n"
      ],
      "execution_count": null,
      "outputs": [
        {
          "output_type": "execute_result",
          "data": {
            "application/vnd.google.colaboratory.intrinsic+json": {
              "type": "string"
            },
            "text/plain": [
              "\"\\n상전이\\n\\n# Ising model\\n\\ni, j 축의 2차원 상자 안에 point 존재. up/down 으로 spin 존재\\n아래 식으로 모두 더해 E 구하기\\n\\nS_ij = 1 or -1\\n\\nE = -Sigma(S_ij * S_i'j')\\n\\n<E> 계산 >> 온도 T에 대한 함수\\n\""
            ]
          },
          "metadata": {
            "tags": []
          },
          "execution_count": 1
        }
      ]
    },
    {
      "cell_type": "code",
      "metadata": {
        "colab": {
          "base_uri": "https://localhost:8080/",
          "height": 279
        },
        "id": "QwfDAFe9do5b",
        "outputId": "9a318d25-30f0-456a-8fd1-2887d74087f9"
      },
      "source": [
        "import numpy as np\n",
        "import matplotlib.pyplot as plt\n",
        "\n",
        "# Spin state in 2D lattice structure\n",
        "def State(N):\n",
        "    state = 2 * np.random.randint(2, size=(N+1, N+1)) - 1\n",
        "    state[N, :], state[:, N] = 0, 0\n",
        "    return state\n",
        "\n",
        "# Energy Calculation in lattice\n",
        "def Energy(state, N):\n",
        "    E_tot = 0\n",
        "    for i in range(N):\n",
        "        for j in range(N):\n",
        "            S = state[i, j]\n",
        "            S_mul = state[(i+1) %N, j] + state[i, (j+1) %N]\n",
        "            E_tot += -S * S_mul\n",
        "    return E_tot\n",
        "\n",
        "# Metropolis Monte Carlo Algorithm\n",
        "def MMC(state, beta, N):\n",
        "    E_1 = Energy(state, N)\n",
        "        \n",
        "    x = np.random.randint(0, N)\n",
        "    y = np.random.randint(0, N)\n",
        "    state[x, y] *= -1     # 스핀상태 뒤집기\n",
        "\n",
        "    E_2 = Energy(state, N)\n",
        "    dE = E_2 - E_1\n",
        "\n",
        "    if dE > 0:\n",
        "        R = np.random.rand()\n",
        "        P = np.exp(-beta * dE)\n",
        "\n",
        "        if R > P:\n",
        "            state[x, y] *= -1       # dE > 0인 경우에서 0 < random number < P이면 다시 뒤집히지 않은 상태로 바꿈 / random number > P이면 다시 뒤집음\n",
        "                \n",
        "    return state\n",
        "\n",
        "# Partition function\n",
        "def PartitionFunc(state ,beta):\n",
        "    part = 0\n",
        "    for i in range(N):\n",
        "        for j in range(N):\n",
        "            part += np.exp(-Energy(state, N) * beta)\n",
        "    return part\n",
        "\n",
        "# Mean Energy\n",
        "def Mean_E(state, beta):\n",
        "    meanE = 0\n",
        "    for i in range(N):\n",
        "        for j in range(N):\n",
        "            meanE += Energy(state, N) * np.exp(-beta * Energy(state, N))\n",
        "    meanE /= PartitionFunc(state, beta)\n",
        "    return meanE\n",
        "\n",
        "# parameter\n",
        "N = 10            # lattice 크기, N * N\n",
        "kT_max = 5        # kT의 maximum 값\n",
        "n = 10            # kT_max를 분할할 수\n",
        "step = 1000       # 그 온도에서 평형상태로 만들기 위한 MMC step 수\n",
        "kT_x = []         # 그래프 x축, kT\n",
        "E_y = []          # 그래프 y축, <E>\n",
        "\n",
        "# Main process\n",
        "for i in range(1, n):\n",
        "    state = State(N)          # lattice 배열 생성\n",
        "    temp = (i/n) * kT_max\n",
        "    beta = 1/temp\n",
        "\n",
        "    for s in range(step):\n",
        "        MMC(state, beta, N)\n",
        "        mean_E = Mean_E(state, beta)\n",
        "\n",
        "    kT_x.append(temp)\n",
        "    E_y.append(mean_E)\n",
        "\n",
        "plt.scatter(kT_x, E_y)\n",
        "plt.xlabel(\"Temperature\")\n",
        "plt.ylabel(\"Energy\")\n",
        "plt.show()\n"
      ],
      "execution_count": null,
      "outputs": [
        {
          "output_type": "display_data",
          "data": {
            "image/png": "[encoded data removed]",
            "text/plain": [
              "<Figure size 432x288 with 1 Axes>"
            ]
          },
          "metadata": {
            "tags": [],
            "needs_background": "light"
          }
        }
      ]
    },
    {
      "cell_type": "code",
      "metadata": {
        "id": "8ZE7A9GyjUlh"
      },
      "source": [
        ""
      ],
      "execution_count": null,
      "outputs": []
    }
  ]
}